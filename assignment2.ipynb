{
  "nbformat": 4,
  "nbformat_minor": 0,
  "metadata": {
    "colab": {
      "name": "assignment2.ipynb",
      "provenance": [],
      "collapsed_sections": []
    },
    "kernelspec": {
      "name": "python3",
      "display_name": "Python 3"
    }
  },
  "cells": [
    {
      "cell_type": "code",
      "metadata": {
        "id": "H4vnpejntKcY",
        "colab_type": "code",
        "outputId": "ef4208af-1939-4e72-8e94-24272caed8c6",
        "colab": {
          "base_uri": "https://localhost:8080/",
          "height": 34
        }
      },
      "source": [
        "\"\"\"Write a Python Program to implement your own myreduce() function which works exactly like\n",
        "Python's built-in function reduce()\"\"\"\n",
        "l=[1,2,3,4]\n",
        "def my_reduce(func,seq):\n",
        "    s=0\n",
        "    for i in seq:\n",
        "        s=func(s,i)\n",
        "    return s\n",
        "def sum(a,b):\n",
        "    return a+b\n",
        "\n",
        "print(my_reduce(sum,l))\n"
      ],
      "execution_count": 0,
      "outputs": [
        {
          "output_type": "stream",
          "text": [
            "10\n"
          ],
          "name": "stdout"
        }
      ]
    },
    {
      "cell_type": "code",
      "metadata": {
        "id": "UkvtDyE803Ia",
        "colab_type": "code",
        "colab": {
          "base_uri": "https://localhost:8080/",
          "height": 51
        },
        "outputId": "45b26c5c-9e31-4f55-b84d-8255e50b1823"
      },
      "source": [
        "\"\"\"Write a Python program to implement your own myfilter() function which works exactly like\n",
        "Python's built-in function filter()\"\"\"\n",
        "\n",
        "def my_filter(func,seq):\n",
        "  s=[]\n",
        "  for i in seq:\n",
        "    if func(i):\n",
        "      s.append(i)\n",
        "  return s    \n",
        "def even(n):\n",
        "  if n%2==0:\n",
        "    return True\n",
        "  else:\n",
        "    return False  \n",
        "l=[24,23,5,1,4,28]\n",
        "print(\"values are: \")\n",
        "my_filter(even,l)"
      ],
      "execution_count": 4,
      "outputs": [
        {
          "output_type": "stream",
          "text": [
            "values are: \n"
          ],
          "name": "stdout"
        },
        {
          "output_type": "execute_result",
          "data": {
            "text/plain": [
              "[24, 4, 28]"
            ]
          },
          "metadata": {
            "tags": []
          },
          "execution_count": 4
        }
      ]
    },
    {
      "cell_type": "code",
      "metadata": {
        "id": "Btt-tli21k5K",
        "colab_type": "code",
        "outputId": "ea8ace07-ef1f-48b4-8b03-c77fbe7a3a80",
        "colab": {
          "base_uri": "https://localhost:8080/",
          "height": 119
        }
      },
      "source": [
        "\"\"\"Implement List comprehensions to produce the following lists.\n",
        "Write List comprehensions to produce the following Lists\n",
        "['A', 'C', 'A', 'D', 'G', 'I', ’L’, ‘ D’]\n",
        "['x', 'xx', 'xxx', 'xxxx', 'y', 'yy', 'yyy', 'yyyy', 'z', 'zz', 'zzz', 'zzzz']\n",
        "['x', 'y', 'z', 'xx', 'yy', 'zz', 'xx', 'yy', 'zz', 'xxxx', 'yyyy', 'zzzz']\n",
        "[[2], [3], [4], [3], [4], [5], [4], [5], [6]]\n",
        "[[2, 3, 4, 5], [3, 4, 5, 6], [4, 5, 6, 7], [5, 6, 7, 8]]\n",
        "[(1, 1), (2, 1), (3, 1), (1, 2), (2, 2), (3, 2), (1, 3), (2, 3), (3, 3)]\"\"\"\n",
        "\n",
        "s=\"ACADGILD\"\n",
        "word_list=[alphabet for alphabet in s]\n",
        "print(str(word_list))\n",
        "xyz=['x','y','z']\n",
        "r1=[item*num for item in xyz for num in range(1,5) ]\n",
        "print(r1)\n",
        "xyz1=['x','y','z']\n",
        "r2=[item*num for num in range(1,5) for item in xyz1]\n",
        "print(r2)\n",
        "val=[2,3,4]\n",
        "r3=[[item+num] for item in val for num in range(0,3)]\n",
        "print(r3)\n",
        "val1=[2,3,4,5]\n",
        "r4=[[item+num for item in val1] for num in range(0,4)]\n",
        "print(r4)\n",
        "val2=[1,2,3]\n",
        "r5=[(b,a) for a in val2 for b in val2 ]\n",
        "print(r5) "
      ],
      "execution_count": 0,
      "outputs": [
        {
          "output_type": "stream",
          "text": [
            "['A', 'C', 'A', 'D', 'G', 'I', 'L', 'D']\n",
            "['x', 'xx', 'xxx', 'xxxx', 'y', 'yy', 'yyy', 'yyyy', 'z', 'zz', 'zzz', 'zzzz']\n",
            "['x', 'y', 'z', 'xx', 'yy', 'zz', 'xxx', 'yyy', 'zzz', 'xxxx', 'yyyy', 'zzzz']\n",
            "[[2], [3], [4], [3], [4], [5], [4], [5], [6]]\n",
            "[[2, 3, 4, 5], [3, 4, 5, 6], [4, 5, 6, 7], [5, 6, 7, 8]]\n",
            "[(1, 1), (2, 1), (3, 1), (1, 2), (2, 2), (3, 2), (1, 3), (2, 3), (3, 3)]\n"
          ],
          "name": "stdout"
        }
      ]
    },
    {
      "cell_type": "code",
      "metadata": {
        "id": "fwN_cStw1lw2",
        "colab_type": "code",
        "outputId": "418a2948-03a0-4abf-b27c-71a929c50e95",
        "colab": {
          "base_uri": "https://localhost:8080/",
          "height": 34
        }
      },
      "source": [
        "\"\"\"Implement a function longestWord() that takes a list of words and returns the longest one\"\"\"\n",
        "def largest_word(word_length):\n",
        "  w=[]\n",
        "  for n in word_length:\n",
        "    w.append((len(n),n))\n",
        "    w.sort()\n",
        "    return w[-1][1]\n",
        "print(largest_word([\"Tejbir\",\"karan\",\"gurvijay\"]))\n"
      ],
      "execution_count": 0,
      "outputs": [
        {
          "output_type": "stream",
          "text": [
            "Tejbir\n"
          ],
          "name": "stdout"
        }
      ]
    },
    {
      "cell_type": "code",
      "metadata": {
        "id": "A-vDkmGmEt_O",
        "colab_type": "code",
        "outputId": "1c47e365-a407-476a-df6f-ce1bb412557c",
        "colab": {
          "base_uri": "https://localhost:8080/",
          "height": 231
        }
      },
      "source": [
        "\"\"\"\n",
        "Write a Python Program(with class concepts) to find the area of the triangle using the below\n",
        "formula.\n",
        "area = (s*(s-a)*(s-b)*(s-c)) ** 0.5\n",
        "Function to take the length of the sides of triangle from user should be defined in the parent\n",
        "class and function to calculate the area should be defined in subclass.\n",
        "\"\"\"\n",
        "\n",
        "class user:\n",
        "  def data(self,a,b,c):\n",
        "    self.a=a\n",
        "    self.b=b\n",
        "    self.c=c\n",
        "  def tri_area(self,s):\n",
        "    self.s=(a+b+c)/2\n",
        "  \n",
        "class tri(user):\n",
        " \n",
        "  def triangle(self):\n",
        "   area=(s*(s-self.a)*(s-self.b)*(s-self.c)) ** 0.5\n",
        "u1=user()\n",
        "t1=tri()\n",
        "t1.data(3,4,5)\n",
        "t1.tri_area()\n",
        "t1.triangle()\n",
        "    \n",
        "       \n",
        "\n",
        " "
      ],
      "execution_count": 0,
      "outputs": [
        {
          "output_type": "error",
          "ename": "TypeError",
          "evalue": "ignored",
          "traceback": [
            "\u001b[0;31m---------------------------------------------------------------------------\u001b[0m",
            "\u001b[0;31mTypeError\u001b[0m                                 Traceback (most recent call last)",
            "\u001b[0;32m<ipython-input-28-fa14b07d499b>\u001b[0m in \u001b[0;36m<module>\u001b[0;34m()\u001b[0m\n\u001b[1;32m     22\u001b[0m \u001b[0mt1\u001b[0m\u001b[0;34m=\u001b[0m\u001b[0mtri\u001b[0m\u001b[0;34m(\u001b[0m\u001b[0;34m)\u001b[0m\u001b[0;34m\u001b[0m\u001b[0;34m\u001b[0m\u001b[0m\n\u001b[1;32m     23\u001b[0m \u001b[0mt1\u001b[0m\u001b[0;34m.\u001b[0m\u001b[0mdata\u001b[0m\u001b[0;34m(\u001b[0m\u001b[0;36m3\u001b[0m\u001b[0;34m,\u001b[0m\u001b[0;36m4\u001b[0m\u001b[0;34m,\u001b[0m\u001b[0;36m5\u001b[0m\u001b[0;34m)\u001b[0m\u001b[0;34m\u001b[0m\u001b[0;34m\u001b[0m\u001b[0m\n\u001b[0;32m---> 24\u001b[0;31m \u001b[0mt1\u001b[0m\u001b[0;34m.\u001b[0m\u001b[0mtri_area\u001b[0m\u001b[0;34m(\u001b[0m\u001b[0;34m)\u001b[0m\u001b[0;34m\u001b[0m\u001b[0;34m\u001b[0m\u001b[0m\n\u001b[0m\u001b[1;32m     25\u001b[0m \u001b[0mt1\u001b[0m\u001b[0;34m.\u001b[0m\u001b[0mtriangle\u001b[0m\u001b[0;34m(\u001b[0m\u001b[0;34m)\u001b[0m\u001b[0;34m\u001b[0m\u001b[0;34m\u001b[0m\u001b[0m\n\u001b[1;32m     26\u001b[0m \u001b[0;34m\u001b[0m\u001b[0m\n",
            "\u001b[0;31mTypeError\u001b[0m: tri_area() missing 1 required positional argument: 's'"
          ]
        }
      ]
    },
    {
      "cell_type": "code",
      "metadata": {
        "id": "oixUZgtO-i4o",
        "colab_type": "code",
        "colab": {}
      },
      "source": [
        "\"\"\"Write a function filter_long_words() that takes a list of words and an integer n and returns the list\n",
        "of words that are longer than n.\"\"\"\n",
        "\n",
        "def longWords(n,data):\n",
        "  wordleng =[]\n",
        "  lwords=data.split(\"\")\n",
        "  for i in lwords:\n",
        "   if len(i)>=n:\n",
        "      wordleng.append(i)\n",
        "   return wordleng\n",
        "def main():\n",
        "  inline=input(\"enter the list of words: \")#ask the user to enter line \n",
        "  inint=eval(input(\"enter int values\"))#ask your to enter integer\n",
        "  filterwords=longwords(inline,inint)\n",
        "  print(\"long words in list {}\".format(filterwords))"
      ],
      "execution_count": 0,
      "outputs": []
    },
    {
      "cell_type": "code",
      "metadata": {
        "id": "XQu-xCjUiuop",
        "colab_type": "code",
        "outputId": "f4e2bacf-c8af-4598-b2b9-a27230163ac2",
        "colab": {
          "base_uri": "https://localhost:8080/",
          "height": 34
        }
      },
      "source": [
        "\"\"\"\n",
        "Write a Python program using function concept that maps list of words into a list of integers\n",
        "representing the lengths of the corresponding words.\n",
        "Hint: If a list [ ab,cde,erty] is passed on to the python function output should come as [2,3,4]\n",
        "Here 2,3 and 4 are the lengths of the words in the list.\"\"\"\n",
        "\n",
        "words=[\"I\",\"LOVE\",\"MY\",\"COUNTRY\"]\n",
        "def wordlen(words):\n",
        "  count=list(map(len,words))\n",
        "  return count\n",
        "print(\"word size in list {}\".format(wordlen(words)))    "
      ],
      "execution_count": 0,
      "outputs": [
        {
          "output_type": "stream",
          "text": [
            "word size in list [1, 4, 2, 7]\n"
          ],
          "name": "stdout"
        }
      ]
    },
    {
      "cell_type": "code",
      "metadata": {
        "id": "x5L-QtTfe0zb",
        "colab_type": "code",
        "outputId": "bae5243a-ff68-4c96-90db-7ae759e60108",
        "colab": {
          "base_uri": "https://localhost:8080/",
          "height": 51
        }
      },
      "source": [
        "\"\"\"\n",
        "Write a Python function which takes a character (i.e. a string of length 1) and returns True if it is\n",
        "a vowel, False otherwise.\"\"\"\n",
        "\n",
        "def vovel(char):\n",
        "  vov='aeiou'\n",
        "  return char in vov\n",
        "print(vovel('a'))\n",
        "print(vovel('b'))   "
      ],
      "execution_count": 0,
      "outputs": [
        {
          "output_type": "stream",
          "text": [
            "True\n",
            "False\n"
          ],
          "name": "stdout"
        }
      ]
    }
  ]
}